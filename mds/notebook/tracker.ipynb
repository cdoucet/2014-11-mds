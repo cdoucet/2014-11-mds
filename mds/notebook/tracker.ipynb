{
 "metadata": {
  "name": "",
  "signature": "sha256:534b659f1139c9e1d106931713e35084985496ee695f8c038e01305071259549"
 },
 "nbformat": 3,
 "nbformat_minor": 0,
 "worksheets": [
  {
   "cells": [
    {
     "cell_type": "heading",
     "level": 1,
     "metadata": {},
     "source": [
      "Issue tracker"
     ]
    },
    {
     "cell_type": "heading",
     "level": 2,
     "metadata": {},
     "source": [
      "Communication interaction"
     ]
    },
    {
     "cell_type": "markdown",
     "metadata": {},
     "source": [
      "Support mailing-list -> issue tracker\n",
      "VS issue tracker exposed"
     ]
    },
    {
     "cell_type": "markdown",
     "metadata": {},
     "source": [
      "Issue tracker \n",
      "\n",
      "      - feature request or bug report\n",
      "      - severity\n",
      "      \n",
      "      reproducibility:\n",
      "        - description\n",
      "        - minimal complete example\n",
      "        - operating system\n",
      "      \t- version\n",
      "      \n",
      "      developer:\n",
      "            - priority / milestone\n",
      "      \t    - component\n",
      "\n",
      "      status (workflow)"
     ]
    },
    {
     "cell_type": "markdown",
     "metadata": {},
     "source": [
      "Pull Request\n",
      "     revision control system integration : issue + patch/changes"
     ]
    },
    {
     "cell_type": "markdown",
     "metadata": {},
     "source": [
      "Timeline"
     ]
    }
   ],
   "metadata": {}
  }
 ]
}